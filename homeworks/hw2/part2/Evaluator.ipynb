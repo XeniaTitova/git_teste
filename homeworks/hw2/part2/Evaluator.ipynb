{
  "cells": [
    {
      "cell_type": "code",
      "execution_count": null,
      "metadata": {
        "id": "aEW8FsaTRaOo"
      },
      "outputs": [],
      "source": [
        "import numpy as np\n",
        "\n",
        "import torch\n",
        "from torch import nn\n",
        "from torch import optim\n",
        "import torch.nn.functional as F\n",
        "import torch.utils.data as utils\n",
        "from torchvision import datasets, transforms\n",
        "from torch.utils.data.sampler import SubsetRandomSampler\n",
        "import os\n",
        "import platform\n",
        "import pickle"
      ]
    },
    {
      "cell_type": "code",
      "execution_count": null,
      "metadata": {
        "id": "bJAZFldDTQRz"
      },
      "outputs": [],
      "source": [
        "from google.colab import drive\n",
        "drive.mount('/content/drive')"
      ]
    },
    {
      "cell_type": "code",
      "execution_count": null,
      "metadata": {
        "id": "dtBf2_UXTPVs"
      },
      "outputs": [],
      "source": [
        "!rm -r DLAV-2023\n",
        "!git clone https://github.com/vita-epfl/DLAV-2023.git\n",
        "path = os.getcwd() + '/DLAV-2023/homeworks/hw2/test_batch'"
      ]
    },
    {
      "cell_type": "code",
      "execution_count": null,
      "metadata": {
        "id": "QB1xSP9nUZGQ"
      },
      "outputs": [],
      "source": [
        "# Set the variable to the location of the trained model\n",
        "model_path = ..."
      ]
    },
    {
      "cell_type": "code",
      "execution_count": null,
      "metadata": {
        "id": "QEIcPZ4hT7fY"
      },
      "outputs": [],
      "source": [
        "class ConvNet(nn.Module):\n",
        "    def __init__(self, n_input_channels=3, n_output=10):\n",
        "        super().__init__()\n",
        "        ################################################################################\n",
        "        # TODO:                                                                        #\n",
        "        # Define 2 or more different layers of the neural network                      #\n",
        "        ################################################################################\n",
        "        pass\n",
        "        ################################################################################\n",
        "        #                              END OF YOUR CODE                                #\n",
        "        ################################################################################\n",
        "    \n",
        "    def forward(self, x):\n",
        "        ################################################################################\n",
        "        # TODO:                                                                        #\n",
        "        # Set up the forward pass that the input data will go through.                 #\n",
        "        # A good activation function betweent the layers is a ReLu function.           #\n",
        "        #                                                                              #\n",
        "        # Note that the output of the last convolution layer should be flattened       #\n",
        "        # before being inputted to the fully connected layer. We can flatten           #\n",
        "        # Tensor `x` with `x.view`.                                                    #\n",
        "        ################################################################################\n",
        "        pass\n",
        "        ################################################################################\n",
        "        #                              END OF YOUR CODE                                #\n",
        "        ################################################################################\n",
        "        \n",
        "        return x\n",
        "    \n",
        "    def predict(self, x):\n",
        "        logits = self.forward(x)\n",
        "        return F.softmax(logits)"
      ]
    },
    {
      "cell_type": "code",
      "execution_count": null,
      "metadata": {
        "id": "p5v7OgpDR4m2"
      },
      "outputs": [],
      "source": [
        "def predict_usingCNN(X):\n",
        "    #########################################################################\n",
        "    # TODO:                                                                 #\n",
        "    # - Load your saved model                                               #\n",
        "    # - Do the operation required to get the predictions                    #\n",
        "    # - Return predictions in a numpy array                                 #\n",
        "    # Note: For the predictions, you have to return the index of the max    #\n",
        "    # value                                                                 #\n",
        "    #########################################################################\n",
        "    pass\n",
        "    #########################################################################\n",
        "    #                       END OF YOUR CODE                                #\n",
        "    #########################################################################\n",
        "    return y_pred\n",
        "   "
      ]
    },
    {
      "cell_type": "code",
      "execution_count": null,
      "metadata": {
        "id": "IGqVw4U3Sy21"
      },
      "outputs": [],
      "source": [
        "## Read DATA\n",
        "def load_pickle(f):\n",
        "    version = platform.python_version_tuple()\n",
        "    if version[0] == '2':\n",
        "        return  pickle.load(f)\n",
        "    elif version[0] == '3':\n",
        "        return  pickle.load(f, encoding='latin1')\n",
        "    raise ValueError(\"invalid python version: {}\".format(version))\n",
        "\n",
        "def load_CIFAR_batch(filename):\n",
        "  \"\"\" load single batch of cifar \"\"\"\n",
        "  with open(filename, 'rb') as f:\n",
        "    datadict = load_pickle(f)\n",
        "    X = datadict['data']\n",
        "    Y = datadict['labels']\n",
        "    X = X.reshape(10000, 3, 32, 32).astype(\"float\")\n",
        "    Y = np.array(Y)\n",
        "    return X, Y\n",
        "test_filename = path\n",
        "X,Y = load_CIFAR_batch(test_filename)"
      ]
    },
    {
      "cell_type": "code",
      "execution_count": null,
      "metadata": {
        "id": "qiRBbv7fR-DB"
      },
      "outputs": [],
      "source": [
        "# Data Manipulation\n",
        "mean_pytorch = np.array([0.4914, 0.4822, 0.4465])\n",
        "std_pytorch = np.array([0.2023, 0.1994, 0.2010])\n",
        "X_pytorch = np.divide(np.subtract( X/255 , mean_pytorch[np.newaxis, :,np.newaxis,np.newaxis]), std_pytorch[np.newaxis, :,np.newaxis,np.newaxis])\n",
        "\n",
        "# Run Prediction and Evaluation\n",
        "prediction_cnn = predict_usingCNN(torch.from_numpy(X_pytorch).float())\n",
        "acc_cnn = sum(prediction_cnn == Y)/len(X_pytorch)\n",
        "print(\"CNN Accuracy= %f\"%(acc_cnn))"
      ]
    }
  ],
  "metadata": {
    "colab": {
      "name": "Evaluator.ipynb",
      "provenance": []
    },
    "kernelspec": {
      "display_name": "Python 3.8.0 64-bit",
      "language": "python",
      "name": "python3"
    },
    "language_info": {
      "name": "python",
      "version": "3.8.0"
    },
    "vscode": {
      "interpreter": {
        "hash": "df0893f56f349688326838aaeea0de204df53a132722cbd565e54b24a8fec5f6"
      }
    }
  },
  "nbformat": 4,
  "nbformat_minor": 0
}